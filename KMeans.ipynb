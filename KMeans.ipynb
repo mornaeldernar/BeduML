{
  "nbformat": 4,
  "nbformat_minor": 0,
  "metadata": {
    "colab": {
      "provenance": [],
      "mount_file_id": "1P5LeLTuyIuitgl5OlH0jnPQLtf2se3sr",
      "authorship_tag": "ABX9TyORfSNjLBvKChr5AneV2v9p",
      "include_colab_link": true
    },
    "kernelspec": {
      "name": "python3",
      "display_name": "Python 3"
    },
    "language_info": {
      "name": "python"
    }
  },
  "cells": [
    {
      "cell_type": "markdown",
      "metadata": {
        "id": "view-in-github",
        "colab_type": "text"
      },
      "source": [
        "<a href=\"https://colab.research.google.com/github/mornaeldernar/BeduML/blob/main/KMeans.ipynb\" target=\"_parent\"><img src=\"https://colab.research.google.com/assets/colab-badge.svg\" alt=\"Open In Colab\"/></a>"
      ]
    },
    {
      "cell_type": "markdown",
      "source": [
        "### Importamos las librerias"
      ],
      "metadata": {
        "id": "stafnBPiFMX-"
      }
    },
    {
      "cell_type": "code",
      "execution_count": 1,
      "metadata": {
        "id": "y012BJnpAx10"
      },
      "outputs": [],
      "source": [
        "import pandas as pd\n",
        "import numpy as np\n",
        "from matplotlib import pyplot as plt\n",
        "from sklearn.model_selection import train_test_split\n",
        "from sklearn.cluster import KMeans"
      ]
    },
    {
      "cell_type": "markdown",
      "source": [
        "### Importamos nuestras librerias"
      ],
      "metadata": {
        "id": "BkvTigxGFHj-"
      }
    },
    {
      "cell_type": "code",
      "source": [
        "import MLUtilities as utils"
      ],
      "metadata": {
        "id": "6snusA0GFE1o"
      },
      "execution_count": null,
      "outputs": []
    },
    {
      "cell_type": "markdown",
      "source": [
        "### Cargamos nuestro archivo"
      ],
      "metadata": {
        "id": "f701NOx0EFF_"
      }
    },
    {
      "cell_type": "code",
      "source": [
        "df = pd.read_csv('')\n",
        "df.head()"
      ],
      "metadata": {
        "id": "txwNBtQeBDHj"
      },
      "execution_count": null,
      "outputs": []
    },
    {
      "cell_type": "markdown",
      "source": [
        "### Separamos nuestro dataset en la entrada (X) y salida(y)"
      ],
      "metadata": {
        "id": "SvGksqCdD8-n"
      }
    },
    {
      "cell_type": "code",
      "source": [
        "X=df[['columna','columna']].to_numpy()\n",
        "y=df['y'].map({\n",
        "    'x':0,\n",
        "    'y':1\n",
        "}).to_numpy()"
      ],
      "metadata": {
        "id": "l8CCXsS0DkRu"
      },
      "execution_count": null,
      "outputs": []
    },
    {
      "cell_type": "markdown",
      "source": [
        "### Analizamos nuestros datos por medio de graficas"
      ],
      "metadata": {
        "id": "HHi_CrD8Eghz"
      }
    },
    {
      "cell_type": "code",
      "source": [
        "plt.scatter(X[:,0], X[:,1], c=y)\n",
        "plt.show()"
      ],
      "metadata": {
        "id": "BKhOfRPJEkTU"
      },
      "execution_count": null,
      "outputs": []
    },
    {
      "cell_type": "markdown",
      "source": [
        "### Separamos nuestros datos en train y test"
      ],
      "metadata": {
        "id": "I1JXgaYND4qk"
      }
    },
    {
      "cell_type": "code",
      "source": [
        "x_train, x_test, y_train, y_test = train_test_split(X,y,test_size=0.4)"
      ],
      "metadata": {
        "id": "aEIJdsUxD2Vx"
      },
      "execution_count": null,
      "outputs": []
    },
    {
      "cell_type": "markdown",
      "source": [
        "### Entrenamos nuestro modelo KMeans con K clusters y obtenemos los centroides"
      ],
      "metadata": {
        "id": "WD942gnkEO6X"
      }
    },
    {
      "cell_type": "code",
      "source": [
        "K= 4\n",
        "modelo = KMeans(n_clusters=K).fit(x_train);\n",
        "centroides = modelo.cluster_centers_\n",
        "print(centroides)"
      ],
      "metadata": {
        "id": "U0D4T-PKC-aR"
      },
      "execution_count": null,
      "outputs": []
    }
  ]
}