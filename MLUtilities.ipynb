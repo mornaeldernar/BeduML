{
  "nbformat": 4,
  "nbformat_minor": 0,
  "metadata": {
    "colab": {
      "provenance": [],
      "authorship_tag": "ABX9TyPmxpn7GhBsJNFVJdUzBxXk",
      "include_colab_link": true
    },
    "kernelspec": {
      "name": "python3",
      "display_name": "Python 3"
    },
    "language_info": {
      "name": "python"
    }
  },
  "cells": [
    {
      "cell_type": "markdown",
      "metadata": {
        "id": "view-in-github",
        "colab_type": "text"
      },
      "source": [
        "<a href=\"https://colab.research.google.com/github/mornaeldernar/BeduML/blob/main/MLUtilities.ipynb\" target=\"_parent\"><img src=\"https://colab.research.google.com/assets/colab-badge.svg\" alt=\"Open In Colab\"/></a>"
      ]
    },
    {
      "cell_type": "code",
      "execution_count": 1,
      "metadata": {
        "id": "2vi_bpvgM4BY"
      },
      "outputs": [],
      "source": [
        "import numpy as np\n",
        "import pandas as pd\n",
        "from scipy import stats"
      ]
    },
    {
      "cell_type": "code",
      "source": [
        "def distEuclidiana(muestra, dataset):\n",
        "  distancias = np.zeros((dataset.shape[0],1))\n",
        "  for counter in range(0,dataset.shape[0]):\n",
        "    distancias[counter] = np.linalg.norm(muestra-dataset[counter])\n",
        "  return distancias"
      ],
      "metadata": {
        "id": "Ak4eE-LXNCfA"
      },
      "execution_count": 2,
      "outputs": []
    },
    {
      "cell_type": "code",
      "source": [
        "def centroideCercano(muestra,listaCentroides):\n",
        "  listaDistancias = distEuclidiana(muestra, listaCentroides)\n",
        "  centroideCercano = np.argmin(listaDistancias)\n",
        "  return centroideCercano"
      ],
      "metadata": {
        "id": "_ne6cMBMNVi5"
      },
      "execution_count": 3,
      "outputs": []
    },
    {
      "cell_type": "code",
      "source": [
        "def clasificarPorCentroides(muestras,centroides):\n",
        "  resultado = np.zeros((muestras.shape[0],1))\n",
        "  for counter in range(0,muestras.shape[0]):\n",
        "    resultado[counter] = centroideCercano(muestras[counter],centroides)\n",
        "  return resultado"
      ],
      "metadata": {
        "id": "er1dlsogNilF"
      },
      "execution_count": null,
      "outputs": []
    },
    {
      "cell_type": "code",
      "source": [
        "def separarDatos(muestras,valoresEsperados, valorAFiltrar):\n",
        "  indices = np.where(valoresEsperados == valorAFiltrar)\n",
        "  return muestras[indices], valoresEsperados[indices]"
      ],
      "metadata": {
        "id": "i69esVtQN4k7"
      },
      "execution_count": null,
      "outputs": []
    },
    {
      "cell_type": "code",
      "source": [
        "def obtenerModa(resultados):\n",
        "  moda = (stats.mode(resultados)[0]).reshape(-1)\n",
        "  return moda[0]"
      ],
      "metadata": {
        "id": "QS32_X8rN4ga"
      },
      "execution_count": null,
      "outputs": []
    },
    {
      "cell_type": "code",
      "source": [
        "def obtenerAccuracy_kmedias(muestras, centroides):\n",
        "  numMuestras = muestras.shape[0]\n",
        "  resultados = clasificarPorCentroides(muestras,centroides)\n",
        "  moda = obtenerModa(resultados)\n",
        "  indicesErrores = len(resultados[indicesErrores])\n",
        "  cantidadErrores = len(resultados[indicesErrores])\n",
        "  accuracy = ((numMuestras - cantidadErrores) / numMuestras) * 100\n",
        "  return accuracy"
      ],
      "metadata": {
        "id": "o5EzMGHsN4dW"
      },
      "execution_count": null,
      "outputs": []
    }
  ]
}